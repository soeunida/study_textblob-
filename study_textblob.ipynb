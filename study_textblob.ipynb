{
 "cells": [
  {
   "cell_type": "code",
   "execution_count": null,
   "source": [
    "!pip install textblob\r\n",
    "!pip freeze > requirements.txt"
   ],
   "outputs": [],
   "metadata": {}
  },
  {
   "cell_type": "code",
   "execution_count": 2,
   "source": [
    "from textblob import TextBlob"
   ],
   "outputs": [],
   "metadata": {}
  },
  {
   "cell_type": "code",
   "execution_count": 3,
   "source": [
    "text = \"In this course we will learn how to perform NLP with TextBlob. TextBlob is a Phython package that's built on top of the famous Python package called NLTK.\""
   ],
   "outputs": [],
   "metadata": {}
  },
  {
   "cell_type": "code",
   "execution_count": 5,
   "source": [
    "blob = TextBlob(text)\r\n",
    "type(blob), len(blob)"
   ],
   "outputs": [
    {
     "output_type": "execute_result",
     "data": {
      "text/plain": [
       "(textblob.blob.TextBlob, 154)"
      ]
     },
     "metadata": {},
     "execution_count": 5
    }
   ],
   "metadata": {}
  },
  {
   "cell_type": "code",
   "execution_count": 7,
   "source": [
    "import nltk\r\n",
    "nltk.download(\"punkt\")"
   ],
   "outputs": [
    {
     "output_type": "stream",
     "name": "stderr",
     "text": [
      "[nltk_data] Downloading package punkt to\n",
      "[nltk_data]     C:\\Users\\한국IT비즈니스진흥협회\\AppData\\Roaming\\nltk_data...\n",
      "[nltk_data]   Package punkt is already up-to-date!\n"
     ]
    },
    {
     "output_type": "execute_result",
     "data": {
      "text/plain": [
       "True"
      ]
     },
     "metadata": {},
     "execution_count": 7
    }
   ],
   "metadata": {}
  },
  {
   "cell_type": "code",
   "execution_count": null,
   "source": [
    "# 단어 처리"
   ],
   "outputs": [],
   "metadata": {}
  },
  {
   "cell_type": "code",
   "execution_count": 8,
   "source": [
    "result = blob.words\r\n",
    "type(result), len(result), result"
   ],
   "outputs": [
    {
     "output_type": "execute_result",
     "data": {
      "text/plain": [
       "(textblob.blob.WordList,\n",
       " 29,\n",
       " WordList(['In', 'this', 'course', 'we', 'will', 'learn', 'how', 'to', 'perform', 'NLP', 'with', 'TextBlob', 'TextBlob', 'is', 'a', 'Phython', 'package', 'that', \"'s\", 'built', 'on', 'top', 'of', 'the', 'famous', 'Python', 'package', 'called', 'NLTK']))"
      ]
     },
     "metadata": {},
     "execution_count": 8
    }
   ],
   "metadata": {}
  },
  {
   "cell_type": "code",
   "execution_count": 10,
   "source": [
    "type(result[5]), len(result[5]), result[5]"
   ],
   "outputs": [
    {
     "output_type": "execute_result",
     "data": {
      "text/plain": [
       "(textblob.blob.Word, 5, 'learn')"
      ]
     },
     "metadata": {},
     "execution_count": 10
    }
   ],
   "metadata": {}
  },
  {
   "cell_type": "code",
   "execution_count": 12,
   "source": [
    "type(result[5].string), len(result[5].string), result[5].string"
   ],
   "outputs": [
    {
     "output_type": "execute_result",
     "data": {
      "text/plain": [
       "(str, 5, 'learn')"
      ]
     },
     "metadata": {},
     "execution_count": 12
    }
   ],
   "metadata": {}
  },
  {
   "cell_type": "code",
   "execution_count": 11,
   "source": [
    "new_string = \"Test \" + result[0]\r\n",
    "type(new_string), len(new_string), new_string"
   ],
   "outputs": [
    {
     "output_type": "execute_result",
     "data": {
      "text/plain": [
       "(str, 7, 'Test In')"
      ]
     },
     "metadata": {},
     "execution_count": 11
    }
   ],
   "metadata": {}
  },
  {
   "cell_type": "code",
   "execution_count": 13,
   "source": [
    "# 문장 (Sentence) 처리 "
   ],
   "outputs": [],
   "metadata": {}
  },
  {
   "cell_type": "code",
   "execution_count": 14,
   "source": [
    "sentences = blob.sentences\r\n",
    "type(sentences), len(sentences), sentences"
   ],
   "outputs": [
    {
     "output_type": "execute_result",
     "data": {
      "text/plain": [
       "(list,\n",
       " 2,\n",
       " [Sentence(\"In this course we will learn how to perform NLP with TextBlob.\"),\n",
       "  Sentence(\"TextBlob is a Phython package that's built on top of the famous Python package called NLTK.\")])"
      ]
     },
     "metadata": {},
     "execution_count": 14
    }
   ],
   "metadata": {}
  },
  {
   "cell_type": "code",
   "execution_count": 16,
   "source": [
    "for sentence in sentences:\r\n",
    "    print(type(sentence), len(sentence), sentence)"
   ],
   "outputs": [
    {
     "output_type": "stream",
     "name": "stdout",
     "text": [
      "<class 'textblob.blob.Sentence'> 62 In this course we will learn how to perform NLP with TextBlob.\n",
      "<class 'textblob.blob.Sentence'> 91 TextBlob is a Phython package that's built on top of the famous Python package called NLTK.\n"
     ]
    }
   ],
   "metadata": {}
  },
  {
   "cell_type": "code",
   "execution_count": 19,
   "source": [
    "type(sentences[0]), len(sentences[0]), sentences[0] "
   ],
   "outputs": [
    {
     "output_type": "execute_result",
     "data": {
      "text/plain": [
       "(textblob.blob.Sentence,\n",
       " 62,\n",
       " Sentence(\"In this course we will learn how to perform NLP with TextBlob.\"))"
      ]
     },
     "metadata": {},
     "execution_count": 19
    }
   ],
   "metadata": {}
  },
  {
   "cell_type": "code",
   "execution_count": 20,
   "source": [
    "sentence = sentences[1]\r\n",
    "type(sentence), len(sentence), sentence"
   ],
   "outputs": [
    {
     "output_type": "execute_result",
     "data": {
      "text/plain": [
       "(textblob.blob.Sentence,\n",
       " 91,\n",
       " Sentence(\"TextBlob is a Phython package that's built on top of the famous Python package called NLTK.\"))"
      ]
     },
     "metadata": {},
     "execution_count": 20
    }
   ],
   "metadata": {}
  },
  {
   "cell_type": "code",
   "execution_count": 21,
   "source": [
    "sentence.detect_language()"
   ],
   "outputs": [
    {
     "output_type": "execute_result",
     "data": {
      "text/plain": [
       "'en'"
      ]
     },
     "metadata": {},
     "execution_count": 21
    }
   ],
   "metadata": {}
  },
  {
   "cell_type": "code",
   "execution_count": 22,
   "source": [
    "type(sentence.string), len(sentence.string), sentence.string"
   ],
   "outputs": [
    {
     "output_type": "execute_result",
     "data": {
      "text/plain": [
       "(str,\n",
       " 91,\n",
       " \"TextBlob is a Phython package that's built on top of the famous Python package called NLTK.\")"
      ]
     },
     "metadata": {},
     "execution_count": 22
    }
   ],
   "metadata": {}
  },
  {
   "cell_type": "code",
   "execution_count": null,
   "source": [],
   "outputs": [],
   "metadata": {}
  }
 ],
 "metadata": {
  "orig_nbformat": 4,
  "language_info": {
   "name": "python",
   "version": "3.9.4",
   "mimetype": "text/x-python",
   "codemirror_mode": {
    "name": "ipython",
    "version": 3
   },
   "pygments_lexer": "ipython3",
   "nbconvert_exporter": "python",
   "file_extension": ".py"
  },
  "kernelspec": {
   "name": "python3",
   "display_name": "Python 3.9.4 64-bit ('venv': venv)"
  },
  "interpreter": {
   "hash": "103faa838612d4ab7d9a76314a1b3e33dc588dc7d9bfdda1fcb79c610cac0054"
  }
 },
 "nbformat": 4,
 "nbformat_minor": 2
}